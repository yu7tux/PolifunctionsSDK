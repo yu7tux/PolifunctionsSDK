{
 "cells": [
  {
   "cell_type": "markdown",
   "metadata": {},
   "source": [
    "# Modeling Quantum Superposition with Polifunctions\n",
    "\n",
    "This notebook demonstrates how the PolifunctionsSDK can be used to model quantum superposition states using set-valued polifunctions.\n",
    "\n",
    "## Introduction\n",
    "\n",
    "In quantum mechanics, a particle can exist in multiple states simultaneously, a phenomenon known as superposition. Traditional mathematical functions struggle to represent this reality because they map each input to exactly one output. Polifunctions provide a natural framework for modeling such scenarios.\n",
    "\n",
    "In this notebook, we'll:\n",
    "1. Create a qubit model using polifunctions\n",
    "2. Apply quantum transformations (gates)\n",
    "3. Model the measurement process\n",
    "4. Visualize the probability distributions\n",
    "\n",
    "Let's start by importing the necessary libraries."
   ]
  },
  {
   "cell_type": "code",
   "execution_count": 1,
   "metadata": {},
   "source": [
    "import numpy as np\n",
    "import matplotlib.pyplot as plt\n",
    "import polifunctions as pf\n",
    "from polifunctions.quantum import *\n",
    "\n",
    "# Set up plotting\n",
    "%matplotlib inline\n",
    "plt.style.use('ggplot')\n",
    "plt.rcParams['figure.figsize'] = (10, 6)"
   ]
  },
  {
   "cell_type": "markdown",
   "metadata": {},
   "source": [
    "## Representing a Qubit\n",
    "\n",
    "A qubit is the quantum equivalent of a classical bit. While a classical bit can be either 0 or 1, a qubit can be in a superposition of both states.\n",
    "\n",
    "In our polifunction framework, we can represent a qubit as a function that maps a measurement basis to a set of possible outcomes, each with an associated probability amplitude.\n",
    "\n",
    "Let's create a qubit in the $|0\\rangle$ state:"
   ]
  },
  {
   "cell_type": "code",
   "execution_count": 2,
   "metadata": {},
   "source": [
    "# Create a qubit in the |0⟩ state\n",
    "qubit = Qubit.new_basis_state(0)\n",
    "\n",
    "# Examine its properties\n",
    "print(f\"State vector: {qubit.state_vector}\")\n",
    "print(f\"Is in superposition? {qubit.is_in_superposition()}\")\n",
    "\n",
    "# Visualize the qubit state\n",
    "qubit.visualize()"
   ]
  },
  {
   "cell_type": "markdown",
   "metadata": {},
   "source": [
    "## Creating Superposition\n",
    "\n",
    "Now, let's apply a Hadamard gate to create a superposition state. The Hadamard gate transforms the basis states as follows:\n",
    "\n",
    "$$H|0\\rangle = \\frac{1}{\\sqrt{2}}(|0\\rangle + |1\\rangle)$$\n",
    "$$H|1\\rangle = \\frac{1}{\\sqrt{2}}(|0\\rangle - |1\\rangle)$$\n",
    "\n",
    "In the polifunction framework, the Hadamard transformation changes our function to represent this superposition:"
   ]
  },
  {
   "cell_type": "code",
   "execution_count": 3,
   "metadata": {},
   "source": [
    "# Apply Hadamard gate to create superposition\n",
    "h_gate = HadamardGate()\n",
    "superposition_qubit = h_gate.apply(qubit)\n",
    "\n",
    "print(f\"State vector after Hadamard: {superposition_qubit.state_vector}\")\n",
    "print(f\"Is in superposition? {superposition_qubit.is_in_superposition()}\")\n",
    "\n",
    "# Visualize the superposition state\n",
    "superposition_qubit.visualize()"
   ]
  },
  {
   "cell_type": "markdown",
   "metadata": {},
   "source": [
    "## The Measurement Process\n",
    "\n",
    "In quantum mechanics, measurement causes the superposition to collapse to one of the possible states according to the probability distribution. This is modeled in our framework as a transformation that converts a set-valued polifunction into a single-valued one.\n",
    "\n",
    "Let's model the measurement process and see how it affects our superposition state:"
   ]
  },
  {
   "cell_type": "code",
   "execution_count": 4,
   "metadata": {},
   "source": [
    "# Create a measurement in the standard basis\n",
    "measurement = StandardBasisMeasurement()\n",
    "\n",
    "# Measure the superposition state multiple times to see the distribution\n",
    "results = [measurement.measure(superposition_qubit) for _ in range(1000)]\n",
    "zeros = results.count(0)\n",
    "ones = results.count(1)\n",
    "\n",
    "print(f\"Measurement results: {zeros} zeros and {ones} ones\")\n",
    "\n",
    "# Visualize the measurement results\n",
    "plt.bar(['|0⟩', '|1⟩'], [zeros, ones])\n",
    "plt.title('Measurement Results Distribution')\n",
    "plt.ylabel('Frequency')\n",
    "plt.show()"
   ]
  },
  {
   "cell_type": "markdown",
   "metadata": {},
   "source": [
    "## Multiple Qubits and Entanglement\n",
    "\n",
    "One of the most fascinating aspects of quantum mechanics is entanglement - a phenomenon where multiple qubits become correlated in such a way that the state of one qubit cannot be described independently of the others.\n",
    "\n",
    "Let's create a Bell state, which is a maximally entangled state of two qubits:"
   ]
  },
  {
   "cell_type": "code",
   "execution_count": 5,
   "metadata": {},
   "source": [
    "# Create two qubits in the |0⟩ state\n",
    "qubit1 = Qubit.new_basis_state(0)\n",
    "qubit2 = Qubit.new_basis_state(0)\n",
    "\n",
    "# Apply Hadamard to the first qubit\n",
    "qubit1 = h_gate.apply(qubit1)\n",
    "\n",
    "# Apply CNOT gate to entangle the qubits\n",
    "cnot_gate = CNOTGate()\n",
    "bell_state = cnot_gate.apply(qubit1, qubit2)\n",
    "\n",
    "print(f\"Bell state vector: {bell_state.state_vector}\")\n",
    "print(f\"Is entangled? {bell_state.is_entangled()}\")\n",
    "\n",
    "# Visualize the Bell state\n",
    "bell_state.visualize()"
   ]
  },
  {
   "cell_type": "markdown",
   "metadata": {},
   "source": [
    "## Modeling with Polifunctions\n",
    "\n",
    "Now, let's look more closely at how polifunctions represent these quantum states. In our framework:\n",
    "\n",
    "1. A quantum state is a polifunction that maps a measurement context to a set of possible outcomes\n",
    "2. Quantum gates are transformations of these polifunctions\n",
    "3. Measurement is a process that converts a set-valued polifunction to a single-valued one\n",
    "\n",
    "Let's examine the superposition state as a polifunction:"
   ]
  },
  {
   "cell_type": "code",
   "execution_count": 6,
   "metadata": {},
   "source": [
    "# Access the underlying polifunction representation\n",
    "poli_function = superposition_qubit.as_polifunction()\n",
    "\n",
    "# Examine the set of possible outcomes in the computational basis\n",
    "computational_basis = StandardBasis()\n",
    "outcomes = poli_function.value_set(computational_basis)\n",
    "\n",
    "print(f\"Possible outcomes in computational basis: {outcomes}\")\n",
    "\n",
    "# Check the probability of each outcome\n",
    "for outcome in outcomes:\n",
    "    prob = superposition_qubit.probability(outcome)\n",
    "    print(f\"Probability of |{outcome}⟩: {prob:.2f}\")"
   ]
  },
  {
   "cell_type": "markdown",
   "metadata": {},
   "source": [
    "## Advantage of Polifunctions\n",
    "\n",
    "The polifunction framework provides several advantages for quantum modeling:\n",
    "\n",
    "1. **Natural representation**: The multi-valued nature of polifunctions naturally captures quantum superposition\n",
    "2. **Unified framework**: The same mathematical constructs can be used across quantum computing, scientific computing, and other domains\n",
    "3. **Intuitive understanding**: The framework can help develop intuition about quantum behavior by connecting it to other multi-valued phenomena\n",
    "\n",
    "Let's compare with traditional state vector notation:"
   ]
  },
  {
   "cell_type": "code",
   "execution_count": 7,
   "metadata": {},
   "source": [
    "# Traditional state vector for superposition\n",
    "traditional_vector = np.array([1/np.sqrt(2), 1/np.sqrt(2)])\n",
    "print(f\"Traditional state vector: {traditional_vector}\")\n",
    "\n",
    "# Polifunction representation (simplified output)\n",
    "print(f\"Polifunction representation: measurement basis → {outcomes} with amplitudes {superposition_qubit.amplitudes}\")\n",
    "\n",
    "# Compare measurement results\n",
    "print(\"\\nTraditional probability calculation:\")\n",
    "print(f\"Probability of |0⟩: {np.abs(traditional_vector[0])**2:.2f}\")\n",
    "print(f\"Probability of |1⟩: {np.abs(traditional_vector[1])**2:.2f}\")\n",
    "\n",
    "print(\"\\nPolifunction probability calculation:\")\n",
    "print(f\"Probability of |0⟩: {superposition_qubit.probability(0):.2f}\")\n",
    "print(f\"Probability of |1⟩: {superposition_qubit.probability(1):.2f}\")"
   ]
  },
  {
   "cell_type": "markdown",
   "metadata": {},
   "source": [
    "## Conclusion\n",
    "\n",
    "In this notebook, we've demonstrated how polifunctions provide a natural and powerful framework for modeling quantum phenomena. The multi-valued nature of polifunctions aligns well with the superposition principle in quantum mechanics.\n",
    "\n",
    "Key takeaways:\n",
    "- Quantum states can be represented as polifunctions mapping measurement contexts to sets of possible outcomes\n",
    "- Quantum operations (gates) are transformations of these polifunctions\n",
    "- Measurement causes the polifunction to collapse to a single-valued function\n",
    "- Entanglement can be modeled as correlations between the outputs of multiple polifunctions\n",
    "\n",
    "This approach offers a fresh perspective on quantum mechanics and potentially opens new avenues for quantum algorithm development and quantum system modeling.\n",
    "\n",
    "For more advanced examples, check out the other notebooks in this series."
   ]
  }
 ],
 "metadata": {
  "kernelspec": {
   "display_name": "Python 3",
   "language": "python",
   "name": "python3"
  },
  "language_info": {
   "codemirror_mode": {
    "name": "ipython",
    "version": 3
   },
   "file_extension": ".py",
   "mimetype": "text/x-python",
   "name": "python",
   "nbconvert_exporter": "python",
   "pygments_lexer": "ipython3",
   "version": "3.8.10"
  }
 },
 "nbformat": 4,
 "nbformat_minor": 4
}
